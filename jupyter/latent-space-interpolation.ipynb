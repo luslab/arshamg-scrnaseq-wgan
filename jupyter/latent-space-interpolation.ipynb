{
 "cells": [
  {
   "cell_type": "markdown",
   "metadata": {},
   "source": [
    "# GAN Pseudotime latent space interpolation"
   ]
  },
  {
   "cell_type": "code",
   "execution_count": 1,
   "metadata": {},
   "outputs": [
    {
     "name": "stdout",
     "output_type": "stream",
     "text": [
      "Populating the interactive namespace from numpy and matplotlib\n"
     ]
    }
   ],
   "source": [
    "import numpy as np\n",
    "import tensorflow as tf\n",
    "%pylab inline"
   ]
  },
  {
   "cell_type": "markdown",
   "metadata": {},
   "source": [
    "Load data"
   ]
  },
  {
   "cell_type": "code",
   "execution_count": 2,
   "metadata": {},
   "outputs": [
    {
     "name": "stdout",
     "output_type": "stream",
     "text": [
      "(6707, 1000)\n"
     ]
    }
   ],
   "source": [
    "from numpy import genfromtxt\n",
    "#kasper_rank_matrix = genfromtxt('kasper_data_rank_normalised_top784_norownames.csv', delimiter=',', skip_header=1)\n",
    "#kasper_rank_matrix = genfromtxt('kasper_data_raw_top784_v2.csv', delimiter=',', skip_header=1)\n",
    "\n",
    "kasper_rank_matrix = genfromtxt('kasper_data_raw_full.csv', delimiter=',', skip_header=1)\n",
    "\n",
    "#only use first 1000 cells\n",
    "kasper_rank_matrix_unwitheld = kasper_rank_matrix\n",
    "kasper_rank_matrix = kasper_rank_matrix[:,0:1000]\n",
    "\n",
    "print(kasper_rank_matrix.shape)\n",
    "\n",
    "import matplotlib.pyplot as plt\n",
    "kasper_unprocessed_hst = np.hstack(kasper_rank_matrix)\n"
   ]
  },
  {
   "cell_type": "markdown",
   "metadata": {},
   "source": [
    "### Parameters"
   ]
  },
  {
   "cell_type": "code",
   "execution_count": 3,
   "metadata": {
    "collapsed": true,
    "jupyter": {
     "outputs_hidden": true
    }
   },
   "outputs": [],
   "source": [
    "n_train_steps = 30\n",
    "batch_size = 256 #originally 128\n",
    "\n",
    "noise_input_size = 100\n",
    "inflate_to_size = 600\n",
    "gex_size = 6707\n",
    "\n",
    "disc_internal_size = 200"
   ]
  },
  {
   "cell_type": "markdown",
   "metadata": {},
   "source": [
    "### Generator"
   ]
  },
  {
   "cell_type": "code",
   "execution_count": 4,
   "metadata": {
    "collapsed": true,
    "jupyter": {
     "outputs_hidden": true
    }
   },
   "outputs": [],
   "source": [
    "def lrelu(x):\n",
    "    return tf.maximum(x, 0.2 * x)\n",
    "\n",
    "z = tf.placeholder(tf.float32, shape=(None, noise_input_size))\n",
    "g_w1 = tf.get_variable(\"g_w1\", [noise_input_size,inflate_to_size], initializer=tf.random_uniform_initializer(-0.05, 0.05),\n",
    "                      regularizer=tf.contrib.layers.l2_regularizer(0.8))\n",
    "g_b1 = tf.get_variable(\"g_b1\", [inflate_to_size], initializer=tf.constant_initializer(0.1))\n",
    "g_w2 = tf.get_variable(\"g_w2\", [inflate_to_size,inflate_to_size], initializer=tf.random_uniform_initializer(-0.05, 0.05),\n",
    "                       regularizer=tf.contrib.layers.l2_regularizer(0.8))\n",
    "g_b2 = tf.get_variable(\"g_b2\", [inflate_to_size], initializer=tf.constant_initializer(0.1))\n",
    "g_w3 = tf.get_variable(\"g_w3\", [inflate_to_size, gex_size], initializer=tf.random_uniform_initializer(-0.05, 0.05),\n",
    "                       regularizer=tf.contrib.layers.l2_regularizer(0.8))\n",
    "g_b3 = tf.get_variable(\"g_b3\", [gex_size], initializer=tf.constant_initializer(0.1))\n",
    "\n",
    "g_params = [g_w1, g_b1, g_w2, g_b2, g_w3, g_b3]\n",
    "\n",
    "def generator(z):\n",
    "    g_y1 = lrelu(tf.matmul(z, g_w1) + g_b1)\n",
    "    g_y2 = lrelu(tf.matmul(g_y1, g_w2) + g_b2)\n",
    "    G = tf.nn.relu(tf.matmul(g_y2, g_w3) + g_b3)\n",
    "    \n",
    "    #tensorboard\n",
    "    tf.summary.histogram('layer1/g_y1', g_y1)\n",
    "    tf.summary.histogram('layer2/g_y2', g_y2)\n",
    "    tf.summary.histogram('layer3/out', G)\n",
    "    \n",
    "    return G"
   ]
  },
  {
   "cell_type": "markdown",
   "metadata": {},
   "source": [
    "With the `noise_prior`, the choices to explore are the distribution used to generate the noise and the parameters of that distribution. The two obvious choices are the normal and uniform distribution. It seemed like a standard normal was a little more consistent in getting reasonable results."
   ]
  },
  {
   "cell_type": "code",
   "execution_count": 5,
   "metadata": {},
   "outputs": [
    {
     "data": {
      "image/png": "[encoded data removed]",
      "text/plain": [
       "<matplotlib.figure.Figure at 0x116dbbad0>"
      ]
     },
     "metadata": {},
     "output_type": "display_data"
    }
   ],
   "source": [
    "#changed so that max value in noise generation prior is max value of data\n",
    "\n",
    "import numpy as np\n",
    "import matplotlib.pyplot as plt\n",
    "\n",
    "data_max_value = numpy.amax(kasper_rank_matrix)\n",
    "\n",
    "def noise_prior(batch_size, dim):\n",
    "    temp_norm = np.random.normal(0.0, data_max_value/10, size=(batch_size, dim))\n",
    "    temp_poisson = np.random.poisson(1, size=(batch_size, dim))\n",
    "    return np.abs(temp_norm + temp_poisson)\n",
    "\n",
    "def noise_prior_special(batch_size, dim, data_max_value, poiss):\n",
    "    temp_norm = np.random.normal(0.0, data_max_value/10, size=(batch_size, dim))\n",
    "    temp_poisson = np.random.poisson(poiss, size=(batch_size, dim))\n",
    "    return np.abs(temp_norm + temp_poisson)\n",
    "\n",
    "test = noise_prior_special(100,100, data_max_value, 3)\n",
    "count, bins, ignored = plt.hist(test, normed=True)\n",
    "plt.show()\n",
    "\n"
   ]
  },
  {
   "cell_type": "markdown",
   "metadata": {},
   "source": [
    "### The Discriminator"
   ]
  },
  {
   "cell_type": "code",
   "execution_count": 6,
   "metadata": {
    "collapsed": true,
    "jupyter": {
     "outputs_hidden": true
    }
   },
   "outputs": [],
   "source": [
    "x = tf.placeholder(tf.float32, shape=(None, gex_size))\n",
    "d_w1 = tf.get_variable(\"d_w1\", [gex_size,disc_internal_size], initializer=tf.random_uniform_initializer(-0.005, 0.005),\n",
    "                       regularizer=tf.contrib.layers.l2_regularizer(0.8))\n",
    "d_b1 = tf.get_variable(\"d_b1\", [disc_internal_size], initializer=tf.constant_initializer(0.1))\n",
    "d_w2 = tf.get_variable(\"d_w2\", [disc_internal_size,disc_internal_size], initializer=tf.random_uniform_initializer(-0.005,0.005),\n",
    "                       regularizer=tf.contrib.layers.l2_regularizer(0.8))\n",
    "d_b2 = tf.get_variable(\"d_b2\", [disc_internal_size], initializer=tf.constant_initializer(0.1))\n",
    "d_w3 = tf.get_variable(\"d_w3\", [disc_internal_size,1], initializer=tf.random_uniform_initializer(-0.005,0.005),\n",
    "                       regularizer=tf.contrib.layers.l2_regularizer(0.8))\n",
    "d_b3 = tf.get_variable(\"d_b3\", [1], initializer=tf.constant_initializer(0.1))\n",
    "\n",
    "d_params = [d_w1, d_b1, d_w2, d_b2, d_w3, d_b3]\n",
    "\n",
    "#d_weights = [d_w1, d_w2, d_w3]\n",
    "\n",
    "clip_d = None\n",
    "\n",
    "def discriminator(x):\n",
    "    d_y1 = lrelu(tf.matmul(x, d_w1) + d_b1)\n",
    "    d_y2 = lrelu(tf.matmul(d_y1, d_w2) + d_b2)\n",
    "    D = tf.matmul(d_y2, d_w3) + d_b3\n",
    "\n",
    "    weights_d1 = tf.summary.histogram('d_layer1/d_w1', d_w1)\n",
    "    weights_d2 = tf.summary.histogram('d_layer2/d_w2', d_w2)\n",
    "    weights_d3 = tf.summary.histogram('d_layer3/d_w3', d_w3)\n",
    "\n",
    "    bias_d1 = tf.summary.histogram('d_layer1/d_b1', d_b1)\n",
    "    bias_d2 = tf.summary.histogram('d_layer2/d_b2', d_b2)\n",
    "    bias_d3 = tf.summary.histogram('d_layer3/d_b3', d_b3)\n",
    "\n",
    "    tf.summary.histogram('d_layer1/d_y1', d_y1)\n",
    "    tf.summary.histogram('d_layer2/d_y2', d_y2)\n",
    "    tf.summary.histogram('d_layer3/D', D)\n",
    "    \n",
    "    return D\n",
    "\n"
   ]
  },
  {
   "cell_type": "markdown",
   "metadata": {},
   "source": [
    "Define the outputs we're going to train."
   ]
  },
  {
   "cell_type": "code",
   "execution_count": 7,
   "metadata": {
    "collapsed": true,
    "jupyter": {
     "outputs_hidden": true
    }
   },
   "outputs": [],
   "source": [
    "G = generator(z)\n",
    "D_real = discriminator(x)\n",
    "D_fake = discriminator(G)"
   ]
  },
  {
   "cell_type": "markdown",
   "metadata": {},
   "source": [
    "### The Training Objectives"
   ]
  },
  {
   "cell_type": "markdown",
   "metadata": {},
   "source": [
    "Changed for Wasserstein distance/objectives"
   ]
  },
  {
   "cell_type": "code",
   "execution_count": 8,
   "metadata": {},
   "outputs": [
    {
     "name": "stdout",
     "output_type": "stream",
     "text": [
      "(?, 1)\n"
     ]
    }
   ],
   "source": [
    "print(D_real.shape)"
   ]
  },
  {
   "cell_type": "code",
   "execution_count": 9,
   "metadata": {
    "collapsed": true,
    "jupyter": {
     "outputs_hidden": true
    }
   },
   "outputs": [],
   "source": [
    "LAMBDA = 10 # Gradient penalty lambda hyperparameter\n",
    "\n",
    "obj_d = tf.reduce_mean(D_fake) - tf.reduce_mean(D_real)\n",
    "obj_g = -tf.reduce_mean(D_fake)\n",
    "\n",
    "##### need to expand shape of alpha?\n",
    "\n",
    "alpha = tf.random_uniform(\n",
    "    shape=[batch_size,gex_size], \n",
    "    minval=0.,\n",
    "    maxval=1.\n",
    ")\n",
    "\n",
    "differences = D_fake - D_real\n",
    "interpolates = D_real + (alpha*differences)\n",
    "gradients = tf.gradients(discriminator(interpolates), [interpolates])[0]\n",
    "slopes = tf.sqrt(tf.reduce_sum(tf.square(gradients), reduction_indices=[1]))\n",
    "gradient_penalty = tf.reduce_mean((slopes-1.)**2)\n",
    "obj_d += LAMBDA*gradient_penalty"
   ]
  },
  {
   "cell_type": "code",
   "execution_count": 10,
   "metadata": {
    "collapsed": true,
    "jupyter": {
     "outputs_hidden": true
    }
   },
   "outputs": [],
   "source": [
    "def exp_decay(initial_rate, step, decay_factor, min_lr):\n",
    "    return tf.maximum(initial_rate / tf.pow(decay_factor, tf.to_float(step)), min_lr)\n",
    "\n",
    "def momentum_adjustor(initial_momentum, step, final_momentum, saturation_point):\n",
    "    m = initial_momentum + (final_momentum - initial_momentum) * (tf.to_float(step) / saturation_point)\n",
    "    return tf.minimum(m, final_momentum)\n",
    "\n",
    "time_step = tf.placeholder(tf.int32)\n",
    "\n",
    "d_batch = tf.Variable(0, trainable=False)\n",
    "d_learning_rate = exp_decay(0.01, time_step, 1.000004, 0.000001)\n",
    "d_momentum = momentum_adjustor(0.5, d_batch, 0.7, 250)\n",
    "#opt_d = tf.train.MomentumOptimizer(d_learning_rate, d_momentum).minimize(obj_d, var_list=d_params, global_step=d_batch)\n",
    "opt_d = tf.train.RMSPropOptimizer(learning_rate=5e-5).minimize(obj_d, var_list=d_params)\n",
    "\n",
    "g_batch = tf.Variable(0, trainable=False)\n",
    "g_learning_rate = exp_decay(0.01, time_step, 1.000004, 0.000001)\n",
    "g_momentum = momentum_adjustor(0.5, g_batch, 0.7, 250)\n",
    "#opt_g = tf.train.MomentumOptimizer(g_learning_rate, g_momentum).minimize(obj_g, var_list=g_params, global_step=g_batch)\n",
    "opt_g = tf.train.RMSPropOptimizer(learning_rate=5e-5).minimize(obj_g, var_list=g_params)\n",
    "\n",
    "d_momentum_summary = tf.summary.scalar('d_momentum', d_momentum)\n",
    "g_momentum_summary = tf.summary.scalar('g_momentum', g_momentum)\n",
    "d_learning_rate_summary = tf.summary.scalar('d_learning_rate', d_learning_rate)\n",
    "g_learning_rate_summary = tf.summary.scalar('g_learning_rate', g_learning_rate)\n",
    "obj_d_summary = tf.summary.scalar('obj_d', obj_d)\n",
    "obj_g_summary = tf.summary.scalar('obj_g', obj_g)\n",
    "\n",
    "#with tf.name_scope(\"layer1\"):\n",
    "#    weights_g1 = tf.summary.histogram('g_w1', g_w1)\n",
    "#    bias_g1 = tf.summary.histogram('g_b1', g_b1)\n",
    "#    layer1 = tf.matmul(z,g_w1)\n",
    "\n",
    "weights_g1 = tf.summary.histogram('layer1/g_w1', g_w1)\n",
    "weights_g2 = tf.summary.histogram('layer2/g_w2', g_w2)\n",
    "weights_g3 = tf.summary.histogram('layer3/g_w3', g_w3)\n",
    "\n",
    "bias_g1 = tf.summary.histogram('layer1/g_b1', g_b1)\n",
    "bias_g2 = tf.summary.histogram('layer2/g_b2', g_b2)\n",
    "bias_g3 = tf.summary.histogram('layer3/g_b3', g_b3)\n"
   ]
  },
  {
   "cell_type": "code",
   "execution_count": 11,
   "metadata": {},
   "outputs": [
    {
     "name": "stdout",
     "output_type": "stream",
     "text": [
      "INFO:tensorflow:Restoring parameters from ./models/SN-WGAN-GP_v3.ckpt\n"
     ]
    }
   ],
   "source": [
    "checkpoint_path = \"./models/SN-WGAN-GP_v3.ckpt\"\n",
    "\n",
    "sess=tf.InteractiveSession()\n",
    "\n",
    "merged = tf.summary.merge_all()\n",
    "\n",
    "train_writer = tf.summary.FileWriter(\"./summaries/gan_full_set_v8\", sess.graph)\n",
    "\n",
    "saver = tf.train.Saver(max_to_keep=50)\n",
    "\n",
    "tf.global_variables_initializer().run()\n",
    "\n",
    "saver.restore(sess, checkpoint_path)"
   ]
  },
  {
   "cell_type": "code",
   "execution_count": 12,
   "metadata": {},
   "outputs": [
    {
     "name": "stdout",
     "output_type": "stream",
     "text": [
      "(6707, 1000)\n",
      "Generated cells: 1000 Max corr.: 0.690163248348\n",
      "Generated cells: 2000 Max corr.: 0.693177862661\n",
      "Generated cells: 3000 Max corr.: 0.693177862661\n",
      "Generated cells: 4000 Max corr.: 0.695095244955\n",
      "Generated cells: 5000 Max corr.: 0.695095244955\n",
      "Generated cells: 6000 Max corr.: 0.695095244955\n",
      "Generated cells: 7000 Max corr.: 0.695095244955\n",
      "Generated cells: 8000 Max corr.: 0.695095244955\n",
      "Generated cells: 9000 Max corr.: 0.695095244955\n",
      "Generated cells: 10000 Max corr.: 0.695095244955\n",
      "[[ 2.67404553  0.97535727  0.1407342   2.35402388  0.06279543  2.43173045\n",
      "   2.08093713  1.10438416  0.27408514  0.16011636  0.7126976   1.42193689\n",
      "   1.84664029  0.56886451  3.10162661  1.20580612  0.02303769  1.62942038\n",
      "   0.68325562  3.4137321   0.28053458  0.09312997  0.43492087  1.71711168\n",
      "   1.46160431  2.67106832  0.90365806  0.01041444  1.98952695  3.12520285\n",
      "   2.19287911  0.09795288  2.03020741  2.84613592  0.45036683  0.44805576\n",
      "   2.88339839  0.41270804  0.25143673  0.76898024  1.52180761  3.57868888\n",
      "   1.02468276  0.30232675  2.40875779  0.96204644  3.32555993  0.19612319\n",
      "   1.63917059  2.06155657  0.79339624  0.24951945  3.89697958  1.75600985\n",
      "   1.14763908  0.32222866  0.80663457  1.21926422  2.6785186   1.18414517\n",
      "   1.03255756  3.36942065  2.70271044  0.24719882  1.00265209  3.80704907\n",
      "   0.39777073  3.16135684  0.98972619  2.4104267   0.59861914  1.40786407\n",
      "   2.61153423  1.1225064   2.12313514  3.05591664  0.38425091  2.05821019\n",
      "   0.3755806   2.56557883  0.64247416  0.35789068  1.49009792  0.25541113\n",
      "   1.3939946   0.58802055  0.66646183  2.8367938   2.15017294  2.55350491\n",
      "   0.45238328  1.08978492  0.87473106  0.43395811  1.14036166  0.50074346\n",
      "   1.30299103  0.67229769  1.45331427  1.89305234]]\n"
     ]
    }
   ],
   "source": [
    "print(kasper_rank_matrix.shape)\n",
    "\n",
    "def generate_until_high_corr(cell, threshold, max_attempts):\n",
    "    temp_corr = 0\n",
    "    \n",
    "    max_corr = 0\n",
    "    max_corr_z = 0\n",
    "    \n",
    "    num_attempts = 0\n",
    "    while temp_corr < threshold and num_attempts < max_attempts:\n",
    "        rand_z = noise_prior_special(1,100, data_max_value, 1)\n",
    "        temp_gen = sess.run(G, {z : rand_z })\n",
    "        temp_corr = np.corrcoef(temp_gen, cell)\n",
    "        temp_corr = np.min(temp_corr)\n",
    "        num_attempts = num_attempts + 1\n",
    "        if temp_corr > max_corr:\n",
    "            max_corr = temp_corr\n",
    "            max_corr_z = rand_z\n",
    "        if (num_attempts % 1000) == 0:\n",
    "            print(\"Generated cells: \" + str(num_attempts) + \" Max corr.: \" + str(max_corr))\n",
    "    return max_corr, max_corr_z\n",
    "\n",
    "max_corr, max_corr_z = generate_until_high_corr(kasper_rank_matrix[:,11], threshold=0.84, max_attempts=10000)\n",
    "\n",
    "print(max_corr_z)    \n",
    "        "
   ]
  },
  {
   "cell_type": "markdown",
   "metadata": {},
   "source": [
    "### Generate cells from a checkpoint"
   ]
  },
  {
   "cell_type": "code",
   "execution_count": 13,
   "metadata": {},
   "outputs": [
    {
     "name": "stdout",
     "output_type": "stream",
     "text": [
      "(1000, 100)\n",
      "(1000,)\n",
      "(1000, 6707)\n"
     ]
    }
   ],
   "source": [
    "def interpolate_two_cell_z(z_a, z_b, num_points):\n",
    "    z_diff = z_b - z_a\n",
    "    z_diff = numpy.true_divide(z_diff, num_points)\n",
    "\n",
    "    z_output = z_a\n",
    "    for step in range(1,num_points):\n",
    "        z_step = z_a + step*z_diff\n",
    "        z_output = numpy.append(z_output, z_step, axis=0)\n",
    "        \n",
    "    return z_output\n",
    "\n",
    "z_test_a = noise_prior(1, 100)\n",
    "z_test_b = noise_prior(1, 100)\n",
    "\n",
    "interpolation_zab = interpolate_two_cell_z(z_test_a, z_test_b, 1000)\n",
    "print(interpolation_zab.shape)\n",
    "print(interpolation_zab[:,1].shape)\n",
    "\n",
    "interp_gen = sess.run(G, {z : interpolation_zab })\n",
    "print(interp_gen.shape)\n"
   ]
  },
  {
   "cell_type": "markdown",
   "metadata": {},
   "source": [
    "### Pick cells; generate LSI; generate gene expression"
   ]
  },
  {
   "cell_type": "code",
   "execution_count": 19,
   "metadata": {},
   "outputs": [
    {
     "name": "stdout",
     "output_type": "stream",
     "text": [
      "330\n"
     ]
    }
   ],
   "source": [
    "import csv\n",
    "with open(\"./kasper_celltype_labels.txt\", \"rb\") as f:\n",
    "    reader = csv.reader(f, delimiter='\\t')\n",
    "    cell_type_labels = reader.next()\n",
    "\n",
    "is_basal = [\"IFE-B\" in i for i in cell_type_labels]\n",
    "is_d1 = [\"IFE-DI\" in i for i in cell_type_labels]\n",
    "is_d2 = [\"IFE-DII\" in i for i in cell_type_labels]\n",
    "\n",
    "\n",
    "basal_idx = [i for i, x in enumerate(is_basal) if x]\n",
    "d1_idx = [i for i, x in enumerate(is_d1) if x]\n",
    "d2_idx = [i for i, x in enumerate(is_d2) if x]\n",
    "\n",
    "basal_example = [i for i, x in enumerate(is_basal) if x][0]\n",
    "d1_example = [i for i, x in enumerate(is_d1) if x][0]\n",
    "d2_example = [i for i, x in enumerate(is_d2) if x][0]\n",
    "\n",
    "#print(basal_example)\n",
    "#print(d1_example)\n",
    "#print(d2_example)\n",
    "\n",
    "#max_corr_basal, max_corr_z_basal = generate_until_high_corr(kasper_rank_matrix[:,basal_example], threshold=0.8, max_attempts=10000)\n",
    "#max_corr_d1, max_corr_z_d1 = generate_until_high_corr(kasper_rank_matrix[:,d1_example], threshold=0.8, max_attempts=10000)\n",
    "#max_corr_d2, max_corr_z_d2 = generate_until_high_corr(kasper_rank_matrix[:,d2_example], threshold=0.8, max_attempts=10000)\n",
    "\n",
    "#interpolation_basal_d1 = interpolate_two_cell_z(max_corr_z_basal, max_corr_z_d1, 1000)\n",
    "#interpolation_d1_d2 = interpolate_two_cell_z(max_corr_z_d1, max_corr_z_d2, 1000)\n"
   ]
  },
  {
   "cell_type": "code",
   "execution_count": 27,
   "metadata": {},
   "outputs": [
    {
     "name": "stdout",
     "output_type": "stream",
     "text": [
      "0\n",
      "Generated cells: 1000 Max corr.: 0.746413777045\n",
      "Generated cells: 2000 Max corr.: 0.747722041038\n",
      "Generated cells: 1000 Max corr.: 0.667954481677\n",
      "Generated cells: 2000 Max corr.: 0.668410980065\n",
      "1\n",
      "Generated cells: 1000 Max corr.: 0.692263327651\n",
      "Generated cells: 2000 Max corr.: 0.696968689952\n",
      "Generated cells: 1000 Max corr.: 0.71455342038\n",
      "Generated cells: 2000 Max corr.: 0.71455342038\n",
      "Generated cells: 1000 Max corr.: 0.709431314402\n",
      "Generated cells: 2000 Max corr.: 0.709431314402\n",
      "2\n",
      "Generated cells: 1000 Max corr.: 0.65309029723\n",
      "Generated cells: 2000 Max corr.: 0.65309029723\n",
      "3\n",
      "Generated cells: 1000 Max corr.: 0.705162980503\n",
      "Generated cells: 2000 Max corr.: 0.705854375365\n",
      "Generated cells: 1000 Max corr.: 0.70219641663\n",
      "Generated cells: 2000 Max corr.: 0.707595726711\n",
      "Generated cells: 1000 Max corr.: 0.699748304528\n",
      "Generated cells: 2000 Max corr.: 0.704680977435\n",
      "4\n",
      "Generated cells: 1000 Max corr.: 0.695146167119\n",
      "Generated cells: 2000 Max corr.: 0.695146167119\n",
      "5\n",
      "6\n",
      "Generated cells: 1000 Max corr.: 0.664989653994\n",
      "Generated cells: 2000 Max corr.: 0.664989653994\n",
      "7\n",
      "Generated cells: 1000 Max corr.: 0.684640191296\n",
      "Generated cells: 2000 Max corr.: 0.684640191296\n",
      "Generated cells: 1000 Max corr.: 0.687250969875\n",
      "Generated cells: 2000 Max corr.: 0.687250969875\n",
      "Generated cells: 1000 Max corr.: 0.666267809076\n",
      "Generated cells: 2000 Max corr.: 0.666267809076\n",
      "8\n",
      "9\n",
      "Generated cells: 1000 Max corr.: 0.704821091888\n",
      "Generated cells: 2000 Max corr.: 0.705095923516\n",
      "Generated cells: 1000 Max corr.: 0.672932692237\n",
      "Generated cells: 2000 Max corr.: 0.672932692237\n"
     ]
    }
   ],
   "source": [
    "#Function takes three states; \n",
    "#random sampling of cells ~100\n",
    "#Take median express; lookup gene in fn later\n",
    "\n",
    "#### NB improvement to be made: at the moment we are doing two different interpolations _/\n",
    "#### improve by fitting a spline or some other smooth fit in 100D space between the points\n",
    "#### should lead to a better and smoother prediction\n",
    "\n",
    "num_rand_samples = 10\n",
    "\n",
    "smoothed_pseudotransition_gex = 0\n",
    "has_been_init = False\n",
    "for rand_sample in range(0,num_rand_samples):\n",
    "    print(rand_sample)\n",
    "    basal_example = np.random.randint(len(basal_idx))\n",
    "    d1_example = np.random.randint(len(d1_idx))\n",
    "    d2_example = np.random.randint(len(d2_idx))\n",
    "    \n",
    "    max_corr_basal, max_corr_z_basal = generate_until_high_corr(kasper_rank_matrix[:,basal_example], threshold=0.75, max_attempts=2000)\n",
    "    max_corr_d1, max_corr_z_d1 = generate_until_high_corr(kasper_rank_matrix[:,d1_example], threshold=0.75, max_attempts=2000)\n",
    "    max_corr_d2, max_corr_z_d2 = generate_until_high_corr(kasper_rank_matrix[:,d2_example], threshold=0.75, max_attempts=2000)\n",
    "\n",
    "    interpolation_basal_d1 = interpolate_two_cell_z(max_corr_z_basal, max_corr_z_d1, 1000)\n",
    "    interpolation_d1_d2 = interpolate_two_cell_z(max_corr_z_d1, max_corr_z_d2, 1000)\n",
    "\n",
    "    pseudotransition_z = np.concatenate((interpolation_basal_d1, interpolation_d1_d2), axis=0)\n",
    "\n",
    "    pseudotransition_gex = sess.run(G, {z : pseudotransition_z })\n",
    "\n",
    "    if has_been_init == False:\n",
    "        smoothed_pseudotransition_gex = sess.run(G, {z : pseudotransition_z })\n",
    "        has_been_init = True\n",
    "    else:\n",
    "        smoothed_pseudotransition_gex = np.add(smoothed_pseudotransition_gex,pseudotransition_gex)\n",
    "        smoothed_pseudotransition_gex = np.divide(smoothed_pseudotransition_gex, 2)\n"
   ]
  },
  {
   "cell_type": "code",
   "execution_count": 28,
   "metadata": {},
   "outputs": [
    {
     "name": "stdout",
     "output_type": "stream",
     "text": [
      "(2000, 6707)\n"
     ]
    }
   ],
   "source": [
    "#pseudotransition_z = np.concatenate((interpolation_basal_d1, interpolation_d1_d2), axis=0)\n",
    "\n",
    "#pseudotransition_gex = sess.run(G, {z : pseudotransition_z })\n",
    "\n",
    "print(smoothed_pseudotransition_gex.shape)"
   ]
  },
  {
   "cell_type": "code",
   "execution_count": 40,
   "metadata": {},
   "outputs": [
    {
     "data": {
      "image/png": "[encoded data removed]",
      "text/plain": [
       "<matplotlib.figure.Figure at 0x1346acfd0>"
      ]
     },
     "metadata": {},
     "output_type": "display_data"
    },
    {
     "data": {
      "image/png": "[encoded data removed]",
      "text/plain": [
       "<matplotlib.figure.Figure at 0x1227c7d10>"
      ]
     },
     "metadata": {},
     "output_type": "display_data"
    },
    {
     "data": {
      "image/png": "[encoded data removed]",
      "text/plain": [
       "<matplotlib.figure.Figure at 0x119e48e10>"
      ]
     },
     "metadata": {},
     "output_type": "display_data"
    },
    {
     "data": {
      "image/png": "[encoded data removed]",
      "text/plain": [
       "<matplotlib.figure.Figure at 0x1205c47d0>"
      ]
     },
     "metadata": {},
     "output_type": "display_data"
    },
    {
     "data": {
      "image/png": "[encoded data removed]",
      "text/plain": [
       "<matplotlib.figure.Figure at 0x12544b050>"
      ]
     },
     "metadata": {},
     "output_type": "display_data"
    },
    {
     "data": {
      "image/png": "[encoded data removed]",
      "text/plain": [
       "<matplotlib.figure.Figure at 0x119bfef50>"
      ]
     },
     "metadata": {},
     "output_type": "display_data"
    },
    {
     "data": {
      "image/png": "[encoded data removed]",
      "text/plain": [
       "<matplotlib.figure.Figure at 0x134436150>"
      ]
     },
     "metadata": {},
     "output_type": "display_data"
    }
   ],
   "source": [
    "import csv\n",
    "with open('kasper_data_rownames_full.csv', 'rb') as f:\n",
    "    reader = csv.reader(f)\n",
    "    genes = list(reader)\n",
    "\n",
    "genes = numpy.array(genes)\n",
    "\n",
    "def plot_gene_expression_time(time_gex, gene_name):\n",
    "    gene_index = [i for i, x in enumerate(genes) if x == gene_name][0]\n",
    "    plt.bar(np.arange(0,time_gex.shape[0],1), time_gex[:,gene_index])\n",
    "    plt.title(gene_name)\n",
    "    plt.show()\n",
    "    \n",
    "plot_gene_expression_time(smoothed_pseudotransition_gex, \"Itga6\")\n",
    "\n",
    "plot_gene_expression_time(smoothed_pseudotransition_gex, \"Krt14\")\n",
    "\n",
    "plot_gene_expression_time(smoothed_pseudotransition_gex, \"Ivl\")\n",
    "\n",
    "plot_gene_expression_time(smoothed_pseudotransition_gex, \"Notch1\")\n",
    "\n",
    "plot_gene_expression_time(smoothed_pseudotransition_gex, \"Smad4\")\n",
    "\n",
    "plot_gene_expression_time(smoothed_pseudotransition_gex, \"Bcl3\")\n",
    "\n",
    "plot_gene_expression_time(smoothed_pseudotransition_gex, \"Ctnnb1\")\n"
   ]
  },
  {
   "cell_type": "code",
   "execution_count": null,
   "metadata": {},
   "outputs": [],
   "source": [
    "#interpolated z\n",
    "plt.hist(pseudotransition_z, bins='auto', alpha=0.3, label='z_interp') # arguments are passed to np.histogram\n",
    "plt.title(\"Distribution of interpolated z vectors\")\n",
    "pyplot.legend(loc='upper right')\n",
    "savefig(\"z_interp_histogram.pdf\")\n",
    "plt.show()"
   ]
  },
  {
   "cell_type": "code",
   "execution_count": null,
   "metadata": {},
   "outputs": [],
   "source": [
    "#Calc tSNE\n",
    "from sklearn.manifold import TSNE\n",
    "n_genes_cov = 500\n",
    "\n",
    "X = pseudotransition_gex\n",
    "\n",
    "data_cov = numpy.var(interp_gen, axis=1)/numpy.mean(interp_gen, axis=1)\n",
    "data_cov_index_desc = data_cov.argsort()[::-1][:n_genes_cov]\n",
    "\n",
    "X = X[:,data_cov_index_desc]\n",
    "\n",
    "model = TSNE(n_components=2, random_state=0)\n",
    "np.set_printoptions(suppress=True)\n",
    "combined_tsne = model.fit_transform(X)\n",
    "\n",
    "print(X.shape)\n"
   ]
  },
  {
   "cell_type": "code",
   "execution_count": null,
   "metadata": {},
   "outputs": [],
   "source": [
    "#Plot tSNE\n",
    "import matplotlib.cm as cm\n",
    "\n",
    "print(combined_tsne.shape)\n",
    "\n",
    "tsne_color = np.concatenate([np.repeat(\"red\",1), np.repeat(\"black\",998), np.repeat(\"green\",1)])\n",
    "\n",
    "plt.scatter(combined_tsne[:,0],combined_tsne[:,1], c=tsne_color)\n",
    "plt.show()"
   ]
  },
  {
   "cell_type": "code",
   "execution_count": null,
   "metadata": {},
   "outputs": [],
   "source": [
    "import seaborn as sns; sns.set()\n",
    "print(X.shape)\n",
    "g = sns.clustermap(np.log(1+np.transpose(X)), col_cluster=False, z_score=0)\n"
   ]
  },
  {
   "cell_type": "code",
   "execution_count": null,
   "metadata": {
    "collapsed": true,
    "jupyter": {
     "outputs_hidden": true
    }
   },
   "outputs": [],
   "source": []
  },
  {
   "cell_type": "code",
   "execution_count": null,
   "metadata": {
    "collapsed": true,
    "jupyter": {
     "outputs_hidden": true
    }
   },
   "outputs": [],
   "source": []
  }
 ],
 "metadata": {
  "anaconda-cloud": {},
  "kernelspec": {
   "display_name": "Python 3",
   "language": "python",
   "name": "python3"
  },
  "language_info": {
   "codemirror_mode": {
    "name": "ipython",
    "version": 3
   },
   "file_extension": ".py",
   "mimetype": "text/x-python",
   "name": "python",
   "nbconvert_exporter": "python",
   "pygments_lexer": "ipython3",
   "version": "3.7.6"
  }
 },
 "nbformat": 4,
 "nbformat_minor": 4
}
