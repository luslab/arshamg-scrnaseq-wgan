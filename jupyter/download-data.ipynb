{
 "cells": [
  {
   "cell_type": "code",
   "execution_count": 1,
   "metadata": {},
   "outputs": [],
   "source": [
    "# Import libs\n",
    "import os.path\n",
    "from os import path\n",
    "import gzip\n",
    "import urllib.request\n",
    "from biomart import BiomartServer"
   ]
  },
  {
   "cell_type": "code",
   "execution_count": 2,
   "metadata": {},
   "outputs": [],
   "source": [
    "def download_file(url, file_path_gz, file_path):\n",
    "    if path.exists(file_path) is False: \n",
    "        urllib.request.urlretrieve(url, file_path_gz)\n",
    "        input = gzip.GzipFile(file_path_gz, 'rb')\n",
    "        s = input.read()\n",
    "        input.close()\n",
    "        output = open(file_path, 'wb')\n",
    "        output.write(s)\n",
    "        output.close()"
   ]
  },
  {
   "cell_type": "code",
   "execution_count": 3,
   "metadata": {},
   "outputs": [],
   "source": [
    "# Setup\n",
    "data_path = '../data'\n",
    "gtf_path_gz = data_path + '/Mus_musculus.GRCm38.99.gtf.gz'\n",
    "gtf_path = data_path + '/Mus_musculus.GRCm38.99.gtf'\n",
    "tpm_yang_path_gz = data_path + '/GSE90848_Ana6_basal_hair_bulb_TPM.txt.gz'\n",
    "tpm_yang_path = data_path + '/GSE90848_Ana6_basal_hair_bulb_TPM.txt'\n",
    "tpm_yang_path2_gz = data_path + '/GSE90848_Tel_Ana1_Ana2_bulge_HG_basal_HB_TPM.txt.gz'\n",
    "tpm_yang_path2 = data_path + '/GSE90848_Tel_Ana1_Ana2_bulge_HG_basal_HB_TPM.txt'\n",
    "tpm_joost_path_gz = data_path + '/GSE67602_Joost_et_al_expression.txt.gz'\n",
    "tpm_joost_path = data_path + '/GSE67602_Joost_et_al_expression.txt'\n",
    "tpm_ghahramani_path_gz = data_path + '/GSE99989_NCA_BCatenin_TPM_matrix.csv.gz'\n",
    "tpm_ghahramani_path = data_path + '/GSE99989_NCA_BCatenin_TPM_matrix.csv'\n",
    "gene_tsv_path = data_path + '/gene_names.tsv'"
   ]
  },
  {
   "cell_type": "code",
   "execution_count": 4,
   "metadata": {},
   "outputs": [],
   "source": [
    "# Download initial datasets and decompress\n",
    "download_file('ftp://ftp.ensembl.org/pub/release-99/gtf/mus_musculus/Mus_musculus.GRCm38.99.gtf.gz', gtf_path_gz, gtf_path)\n",
    "download_file('ftp://ftp.ncbi.nlm.nih.gov/geo/series/GSE90nnn/GSE90848/suppl/GSE90848_Ana6_basal_hair_bulb_TPM.txt.gz', tpm_yang_path_gz, tpm_yang_path)\n",
    "download_file('ftp://ftp.ncbi.nlm.nih.gov/geo/series/GSE90nnn/GSE90848/suppl/GSE90848_Tel_Ana1_Ana2_bulge_HG_basal_HB_TPM.txt.gz', tpm_yang_path2_gz, tpm_yang_path2)\n",
    "download_file('ftp://ftp.ncbi.nlm.nih.gov/geo/series/GSE67nnn/GSE67602/suppl/GSE67602_Joost_et_al_expression.txt.gz', tpm_joost_path_gz, tpm_joost_path)\n",
    "download_file('ftp://ftp.ncbi.nlm.nih.gov/geo/series/GSE99nnn/GSE99989/suppl/GSE99989_NCA_BCatenin_TPM_matrix.csv.gz', tpm_ghahramani_path_gz, tpm_ghahramani_path)"
   ]
  },
  {
   "cell_type": "code",
   "execution_count": 12,
   "metadata": {},
   "outputs": [],
   "source": [
    "# Get refseq gene ids\n",
    "if path.exists(gene_tsv_path) is False: \n",
    "    server = BiomartServer( \"http://www.ensembl.org:80/biomart/martservice\" )\n",
    "    mouse_dataset = server.datasets['mmusculus_gene_ensembl']\n",
    "    search_response = mouse_dataset.search({\n",
    "      'attributes': [ 'ensembl_gene_id', 'external_gene_name' ]\n",
    "    })\n",
    "\n",
    "    with open(gene_tsv_path, 'wb') as output:\n",
    "        output.write(search_response.raw.data)"
   ]
  }
 ],
 "metadata": {
  "kernelspec": {
   "display_name": "Python 3",
   "language": "python",
   "name": "python3"
  },
  "language_info": {
   "codemirror_mode": {
    "name": "ipython",
    "version": 3
   },
   "file_extension": ".py",
   "mimetype": "text/x-python",
   "name": "python",
   "nbconvert_exporter": "python",
   "pygments_lexer": "ipython3",
   "version": "3.7.6"
  }
 },
 "nbformat": 4,
 "nbformat_minor": 4
}
