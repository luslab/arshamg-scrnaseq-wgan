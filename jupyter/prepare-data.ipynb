{
 "cells": [
  {
   "cell_type": "code",
   "execution_count": 5,
   "metadata": {},
   "outputs": [
    {
     "name": "stdout",
     "output_type": "stream",
     "text": [
      "Collecting gtfparse\n",
      "  Downloading gtfparse-1.2.0.tar.gz (12 kB)\n",
      "Requirement already satisfied: numpy<2.0,>=1.7 in /opt/conda/lib/python3.7/site-packages (from gtfparse) (1.18.1)\n",
      "Requirement already satisfied: pandas>=0.15 in /opt/conda/lib/python3.7/site-packages (from gtfparse) (0.25.3)\n",
      "Requirement already satisfied: python-dateutil>=2.6.1 in /opt/conda/lib/python3.7/site-packages (from pandas>=0.15->gtfparse) (2.8.1)\n",
      "Requirement already satisfied: pytz>=2017.2 in /opt/conda/lib/python3.7/site-packages (from pandas>=0.15->gtfparse) (2019.3)\n",
      "Requirement already satisfied: six>=1.5 in /opt/conda/lib/python3.7/site-packages (from python-dateutil>=2.6.1->pandas>=0.15->gtfparse) (1.14.0)\n",
      "Building wheels for collected packages: gtfparse\n",
      "  Building wheel for gtfparse (setup.py) ... \u001b[?25ldone\n",
      "\u001b[?25h  Created wheel for gtfparse: filename=gtfparse-1.2.0-py3-none-any.whl size=11881 sha256=610294e06e765a8f59c3b8ed7ab267f2f62a13c364d779c5e3160a0299a403aa\n",
      "  Stored in directory: /home/jovyan/.cache/pip/wheels/2d/81/83/85c4108d53b4b2ad3cee5d6f9b7ec612554e132202b8020359\n",
      "Successfully built gtfparse\n",
      "Installing collected packages: gtfparse\n",
      "Successfully installed gtfparse-1.2.0\n"
     ]
    }
   ],
   "source": [
    "# Install a pip package in the current Jupyter kernel - REMOVE IN PROD\n",
    "import sys\n",
    "!{sys.executable} -m pip install gtfparse"
   ]
  },
  {
   "cell_type": "code",
   "execution_count": 29,
   "metadata": {},
   "outputs": [],
   "source": [
    "# Import libs\n",
    "import os.path\n",
    "from os import path\n",
    "import gzip\n",
    "import pandas as pd\n",
    "import urllib.request\n",
    "from gtfparse import read_gtf"
   ]
  },
  {
   "cell_type": "code",
   "execution_count": 31,
   "metadata": {},
   "outputs": [],
   "source": [
    "# Setup\n",
    "data_path = '../data'\n",
    "gtf_path_gz = data_path + '/Mus_musculus.GRCm38.99.gtf.gz'\n",
    "gtf_path = data_path + '/Mus_musculus.GRCm38.99.gtf'"
   ]
  },
  {
   "cell_type": "code",
   "execution_count": 33,
   "metadata": {},
   "outputs": [],
   "source": [
    "# Download initial datasets and decompress\n",
    "if path.exists(gtf_path_gz) is False: \n",
    "    urllib.request.urlretrieve('ftp://ftp.ensembl.org/pub/release-99/gtf/mus_musculus/Mus_musculus.GRCm38.99.gtf.gz', gtf_path_gz)\n",
    "    input = gzip.GzipFile(gtf_path_gz, 'rb')\n",
    "    s = input.read()\n",
    "    input.close()\n",
    "    output = open(gtf_path, 'wb')\n",
    "    output.write(s)\n",
    "    output.close()"
   ]
  },
  {
   "cell_type": "code",
   "execution_count": 8,
   "metadata": {},
   "outputs": [],
   "source": [
    "#df = read_gtf(\"ftp://ftp.ensembl.org/pub/release-99/gtf/mus_musculus/Mus_musculus.GRCm38.99.gtf.gz\")\n"
   ]
  },
  {
   "cell_type": "code",
   "execution_count": 9,
   "metadata": {},
   "outputs": [
    {
     "data": {
      "text/html": [
       "<div>\n",
       "<style scoped>\n",
       "    .dataframe tbody tr th:only-of-type {\n",
       "        vertical-align: middle;\n",
       "    }\n",
       "\n",
       "    .dataframe tbody tr th {\n",
       "        vertical-align: top;\n",
       "    }\n",
       "\n",
       "    .dataframe thead th {\n",
       "        text-align: right;\n",
       "    }\n",
       "</style>\n",
       "<table border=\"1\" class=\"dataframe\">\n",
       "  <thead>\n",
       "    <tr style=\"text-align: right;\">\n",
       "      <th></th>\n",
       "      <th>#!genome-build GRCm38.p6</th>\n",
       "    </tr>\n",
       "  </thead>\n",
       "  <tbody>\n",
       "    <tr>\n",
       "      <th>0</th>\n",
       "      <td>#!genome-version GRCm38</td>\n",
       "    </tr>\n",
       "    <tr>\n",
       "      <th>1</th>\n",
       "      <td>#!genome-date 2012-01</td>\n",
       "    </tr>\n",
       "    <tr>\n",
       "      <th>2</th>\n",
       "      <td>#!genome-build-accession NCBI:GCA_000001635.8</td>\n",
       "    </tr>\n",
       "    <tr>\n",
       "      <th>3</th>\n",
       "      <td>#!genebuild-last-updated 2019-09</td>\n",
       "    </tr>\n",
       "    <tr>\n",
       "      <th>4</th>\n",
       "      <td>1\\thavana\\tgene\\t3073253\\t3074322\\t.\\t+\\t.\\tge...</td>\n",
       "    </tr>\n",
       "    <tr>\n",
       "      <th>...</th>\n",
       "      <td>...</td>\n",
       "    </tr>\n",
       "    <tr>\n",
       "      <th>1868329</th>\n",
       "      <td>JH584295.1\\tensembl\\tCDS\\t708\\t752\\t.\\t-\\t2\\tg...</td>\n",
       "    </tr>\n",
       "    <tr>\n",
       "      <th>1868330</th>\n",
       "      <td>JH584295.1\\tensembl\\texon\\t565\\t633\\t.\\t-\\t.\\t...</td>\n",
       "    </tr>\n",
       "    <tr>\n",
       "      <th>1868331</th>\n",
       "      <td>JH584295.1\\tensembl\\tCDS\\t565\\t633\\t.\\t-\\t2\\tg...</td>\n",
       "    </tr>\n",
       "    <tr>\n",
       "      <th>1868332</th>\n",
       "      <td>JH584295.1\\tensembl\\texon\\t66\\t109\\t.\\t-\\t.\\tg...</td>\n",
       "    </tr>\n",
       "    <tr>\n",
       "      <th>1868333</th>\n",
       "      <td>JH584295.1\\tensembl\\tCDS\\t66\\t109\\t.\\t-\\t2\\tge...</td>\n",
       "    </tr>\n",
       "  </tbody>\n",
       "</table>\n",
       "<p>1868334 rows × 1 columns</p>\n",
       "</div>"
      ],
      "text/plain": [
       "                                  #!genome-build GRCm38.p6\n",
       "0                                  #!genome-version GRCm38\n",
       "1                                    #!genome-date 2012-01\n",
       "2            #!genome-build-accession NCBI:GCA_000001635.8\n",
       "3                         #!genebuild-last-updated 2019-09\n",
       "4        1\\thavana\\tgene\\t3073253\\t3074322\\t.\\t+\\t.\\tge...\n",
       "...                                                    ...\n",
       "1868329  JH584295.1\\tensembl\\tCDS\\t708\\t752\\t.\\t-\\t2\\tg...\n",
       "1868330  JH584295.1\\tensembl\\texon\\t565\\t633\\t.\\t-\\t.\\t...\n",
       "1868331  JH584295.1\\tensembl\\tCDS\\t565\\t633\\t.\\t-\\t2\\tg...\n",
       "1868332  JH584295.1\\tensembl\\texon\\t66\\t109\\t.\\t-\\t.\\tg...\n",
       "1868333  JH584295.1\\tensembl\\tCDS\\t66\\t109\\t.\\t-\\t2\\tge...\n",
       "\n",
       "[1868334 rows x 1 columns]"
      ]
     },
     "execution_count": 9,
     "metadata": {},
     "output_type": "execute_result"
    }
   ],
   "source": [
    "\n",
    "\n",
    "\n",
    "\n",
    "output = open(\"/Users/joe/xxtest\", 'wb')\n",
    "output.write(s)\n",
    "output.close()\n",
    "\n",
    "print(\"done\")"
   ]
  }
 ],
 "metadata": {
  "kernelspec": {
   "display_name": "Python 3",
   "language": "python",
   "name": "python3"
  },
  "language_info": {
   "codemirror_mode": {
    "name": "ipython",
    "version": 3
   },
   "file_extension": ".py",
   "mimetype": "text/x-python",
   "name": "python",
   "nbconvert_exporter": "python",
   "pygments_lexer": "ipython3",
   "version": "3.7.6"
  }
 },
 "nbformat": 4,
 "nbformat_minor": 4
}
