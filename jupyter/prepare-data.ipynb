{
 "cells": [
  {
   "cell_type": "markdown",
   "metadata": {},
   "source": [
    "# Data pre-processing"
   ]
  },
  {
   "cell_type": "markdown",
   "metadata": {},
   "source": [
    "## Setup -CHECK SPELLING MISTAKES"
   ]
  },
  {
   "cell_type": "code",
   "execution_count": 1,
   "metadata": {},
   "outputs": [],
   "source": [
    "# Install a pip package in the current Jupyter kernel - REMOVE IN PROD\n",
    "#import sys\n",
    "#!{sys.executable} -m pip install gtfparse"
   ]
  },
  {
   "cell_type": "markdown",
   "metadata": {},
   "source": [
    "Import relevant libraries"
   ]
  },
  {
   "cell_type": "code",
   "execution_count": 2,
   "metadata": {},
   "outputs": [],
   "source": [
    "# Import libs\n",
    "import os.path\n",
    "from os import path\n",
    "import gzip\n",
    "import pandas as pd\n",
    "import numpy as np\n",
    "import urllib.request\n",
    "from gtfparse import read_gtf\n",
    "from biomart import BiomartServer"
   ]
  },
  {
   "cell_type": "markdown",
   "metadata": {},
   "source": [
    "Create function for printing out rows and cols"
   ]
  },
  {
   "cell_type": "code",
   "execution_count": 3,
   "metadata": {},
   "outputs": [],
   "source": [
    "def print_rowcol(pretext, df):\n",
    "    template = pretext + ': {} rows x {} cols'\n",
    "    print(template.format(str(df.shape[0]), str(df.shape[1])))"
   ]
  },
  {
   "cell_type": "markdown",
   "metadata": {},
   "source": [
    "Setup paths - main data path is folder inside the code repository where the data dowloaded from download-data has been stored"
   ]
  },
  {
   "cell_type": "code",
   "execution_count": 4,
   "metadata": {},
   "outputs": [],
   "source": [
    "data_path = '../data'\n",
    "gtf_path = data_path + '/Mus_musculus.GRCm38.99.gtf'\n",
    "tpm_yang_path = data_path + '/GSE90848_Ana6_basal_hair_bulb_TPM.txt'\n",
    "tpm_yang_path2 = data_path + '/GSE90848_Tel_Ana1_Ana2_bulge_HG_basal_HB_TPM.txt'\n",
    "tpm_joost_path = data_path + '/GSE67602_Joost_et_al_expression.txt'\n",
    "tpm_ghahramani_path = data_path + '/GSE99989_NCA_BCatenin_TPM_matrix.csv'\n",
    "gene_tsv_path = data_path + '/gene_names.tsv'\n",
    "gtf_data_path = data_path + '/gtf.txt'"
   ]
  },
  {
   "cell_type": "markdown",
   "metadata": {},
   "source": [
    "Set the main thresholds for the pre-processing\n",
    "- min_num_genes_in_cell_exp - is the min number of genes that need to have expression > **min_ltpm_exp** for it to be considered a valid cell\n",
    "- min_num_cells_for_gene_exp - is the min number of cells that need to have an expression for that gene > **min_ltpm_exp** for it to be considered a valid gene"
   ]
  },
  {
   "cell_type": "code",
   "execution_count": 5,
   "metadata": {},
   "outputs": [],
   "source": [
    "# Thresholds\n",
    "min_num_genes_in_cell_exp = 1000\n",
    "min_num_cells_for_gene_exp = 10\n",
    "min_ltpm_exp = 1"
   ]
  },
  {
   "cell_type": "markdown",
   "metadata": {},
   "source": [
    "## Load and process gene data\n",
    "\n",
    "Load GTF data and show some data"
   ]
  },
  {
   "cell_type": "code",
   "execution_count": 6,
   "metadata": {},
   "outputs": [
    {
     "name": "stderr",
     "output_type": "stream",
     "text": [
      "/opt/conda/lib/python3.7/site-packages/IPython/core/interactiveshell.py:3051: DtypeWarning: Columns (1,24) have mixed types. Specify dtype option on import or set low_memory=False.\n",
      "  interactivity=interactivity, compiler=compiler, result=result)\n"
     ]
    },
    {
     "name": "stdout",
     "output_type": "stream",
     "text": [
      "Loaded GTF: 1868330 rows x 27 cols\n"
     ]
    }
   ],
   "source": [
    "if path.exists(gtf_data_path) is False:\n",
    "    df_gtf = read_gtf(gtf_path)\n",
    "    df_gtf.to_csv(gtf_data_path)\n",
    "\n",
    "df_gtf = pd.read_csv(gtf_data_path)\n",
    "print_rowcol('Loaded GTF', df_gtf)\n",
    "#df_gtf"
   ]
  },
  {
   "cell_type": "markdown",
   "metadata": {},
   "source": [
    "Calculate feature lengths"
   ]
  },
  {
   "cell_type": "code",
   "execution_count": 7,
   "metadata": {},
   "outputs": [
    {
     "name": "stderr",
     "output_type": "stream",
     "text": [
      "INFO:numexpr.utils:NumExpr defaulting to 4 threads.\n"
     ]
    }
   ],
   "source": [
    "df_gtf.insert(6,\"feature_len\", df_gtf.end - df_gtf.start)\n",
    "#df_gtf"
   ]
  },
  {
   "cell_type": "markdown",
   "metadata": {},
   "source": [
    "Filter GTF data for exons, 3' and 5' UTRs"
   ]
  },
  {
   "cell_type": "code",
   "execution_count": 8,
   "metadata": {},
   "outputs": [
    {
     "name": "stdout",
     "output_type": "stream",
     "text": [
      "Filtered GTF for exons and UTR: 1025718 rows x 28 cols\n"
     ]
    }
   ],
   "source": [
    "df_gtf = df_gtf[(df_gtf.feature=='exon') | (df_gtf.feature=='three_prime_utr') | (df_gtf.feature=='five_prime_utr')]\n",
    "print_rowcol('Filtered GTF for exons and UTR', df_gtf)\n",
    "#df_gtf"
   ]
  },
  {
   "cell_type": "markdown",
   "metadata": {},
   "source": [
    "Aggregate the feature lengths to find a transcript length for each gene"
   ]
  },
  {
   "cell_type": "code",
   "execution_count": 9,
   "metadata": {},
   "outputs": [],
   "source": [
    "df_gtf_transcript_len = pd.DataFrame(df_gtf.groupby(['gene_id']).sum()['feature_len'])\n",
    "#df_gtf_transcript_len"
   ]
  },
  {
   "cell_type": "markdown",
   "metadata": {},
   "source": [
    "Check it makes sense"
   ]
  },
  {
   "cell_type": "code",
   "execution_count": 10,
   "metadata": {},
   "outputs": [],
   "source": [
    "#df_gtf_transcript_len[df_gtf_transcript_len.index.isin(['ENSMUSG00000051951'])]"
   ]
  },
  {
   "cell_type": "code",
   "execution_count": 11,
   "metadata": {},
   "outputs": [],
   "source": [
    "#df_gtf[df_gtf.gene_id.isin(['ENSMUSG00000051951'])]"
   ]
  },
  {
   "cell_type": "code",
   "execution_count": 12,
   "metadata": {},
   "outputs": [],
   "source": [
    "del df_gtf"
   ]
  },
  {
   "cell_type": "markdown",
   "metadata": {},
   "source": [
    "## Resolve Gene names\n",
    "\n",
    "Load gene names"
   ]
  },
  {
   "cell_type": "code",
   "execution_count": 13,
   "metadata": {},
   "outputs": [
    {
     "name": "stdout",
     "output_type": "stream",
     "text": [
      "Loaded gene names: 56289 rows x 1 cols\n"
     ]
    }
   ],
   "source": [
    "df_gene_names = pd.read_csv(gene_tsv_path, sep='\\t', header=None)\n",
    "df_gene_names.columns = ['gene_id', \"gene_name\"]\n",
    "df_gene_names.index = df_gene_names.gene_id\n",
    "df_gene_names = df_gene_names.drop('gene_id', axis=1)\n",
    "print_rowcol('Loaded gene names', df_gene_names)\n",
    "#df_gene_names"
   ]
  },
  {
   "cell_type": "code",
   "execution_count": 14,
   "metadata": {},
   "outputs": [
    {
     "name": "stdout",
     "output_type": "stream",
     "text": [
      "Loaded gene names: 56289 rows x 1 cols\n"
     ]
    }
   ],
   "source": [
    "df_gene_name2id = pd.read_csv(gene_tsv_path, sep='\\t', header=None)\n",
    "df_gene_name2id.columns = ['gene_id', \"gene_name\"]\n",
    "df_gene_name2id.index = df_gene_name2id.gene_name\n",
    "df_gene_name2id = df_gene_name2id.drop('gene_name', axis=1)\n",
    "print_rowcol('Loaded gene names', df_gene_name2id)\n",
    "#df_gene_name2id"
   ]
  },
  {
   "cell_type": "markdown",
   "metadata": {},
   "source": [
    "## Load in RNA-Seq data\n",
    "\n",
    "### Yang\n",
    "\n",
    "Read the yang1 data set and look at the data"
   ]
  },
  {
   "cell_type": "code",
   "execution_count": 15,
   "metadata": {},
   "outputs": [
    {
     "name": "stdout",
     "output_type": "stream",
     "text": [
      "Loaded Yang1: 46609 rows x 385 cols\n"
     ]
    }
   ],
   "source": [
    "df_tpm_1 = pd.read_csv(tpm_yang_path, sep='\\t')\n",
    "print_rowcol('Loaded Yang1', df_tpm_1)\n",
    "#df_tpm_1"
   ]
  },
  {
   "cell_type": "markdown",
   "metadata": {},
   "source": [
    "Clean the yang1 dataset to get the gene names, call `.shape` to check we havent filtered anything"
   ]
  },
  {
   "cell_type": "code",
   "execution_count": 16,
   "metadata": {},
   "outputs": [
    {
     "name": "stdout",
     "output_type": "stream",
     "text": [
      "Filter check: 46609 rows x 3 cols\n"
     ]
    }
   ],
   "source": [
    "# Split gene ids on _ and load into a new data frame and set the columns\n",
    "split_data = pd.DataFrame(df_tpm_1.Gene_id.str.split(\"_\", expand=True))\n",
    "split_data.columns = [\"Gene_id\", \"Gene_name\", \"Gene_name2\"]\n",
    "\n",
    "# Fill in the NA's with blank strings\n",
    "split_data[\"Gene_name\"] = split_data.Gene_name.fillna('')\n",
    "split_data[\"Gene_name2\"] = split_data.Gene_name2.fillna('')\n",
    "\n",
    "# Concatinate the strings that have split more than once back to their standard for e.g GENEID_GENENAME_SOMEMORENAME\n",
    "split_data[\"Gene_name\"] = split_data.apply(lambda x: x.Gene_name if x.Gene_name2 == '' else x.Gene_name + '_' + x.Gene_name2, axis=1)\n",
    "print_rowcol('Filter check', split_data)"
   ]
  },
  {
   "cell_type": "markdown",
   "metadata": {},
   "source": [
    "Write the gene names back into the main dataset, print out dataset to check we do indeed have gene names where they were available"
   ]
  },
  {
   "cell_type": "code",
   "execution_count": 17,
   "metadata": {},
   "outputs": [],
   "source": [
    "# Insert the columns back into the main data array\n",
    "df_tpm_1[\"Gene_id\"] = split_data.Gene_id\n",
    "df_tpm_1.insert(1,\"Gene_name\", split_data.Gene_name)\n",
    "#df_tpm_1"
   ]
  },
  {
   "cell_type": "markdown",
   "metadata": {},
   "source": [
    "Set gene name to index after checking it is unique"
   ]
  },
  {
   "cell_type": "code",
   "execution_count": 18,
   "metadata": {},
   "outputs": [
    {
     "data": {
      "text/plain": [
       "True"
      ]
     },
     "execution_count": 18,
     "metadata": {},
     "output_type": "execute_result"
    }
   ],
   "source": [
    "df_tpm_1.Gene_id.is_unique"
   ]
  },
  {
   "cell_type": "code",
   "execution_count": 19,
   "metadata": {},
   "outputs": [],
   "source": [
    "df_tpm_1.index = df_tpm_1['Gene_id']\n",
    "#df_tpm_1"
   ]
  },
  {
   "cell_type": "markdown",
   "metadata": {},
   "source": [
    "Load in Yang2 "
   ]
  },
  {
   "cell_type": "code",
   "execution_count": 20,
   "metadata": {},
   "outputs": [
    {
     "name": "stdout",
     "output_type": "stream",
     "text": [
      "Loaded Yang2: 46609 rows x 399 cols\n"
     ]
    }
   ],
   "source": [
    "df_tpm_2 = pd.read_csv(tpm_yang_path2, sep='\\t')\n",
    "print_rowcol('Loaded Yang2', df_tpm_2)\n",
    "#df_tpm_2"
   ]
  },
  {
   "cell_type": "code",
   "execution_count": 21,
   "metadata": {},
   "outputs": [
    {
     "name": "stdout",
     "output_type": "stream",
     "text": [
      "Filter check: 46609 rows x 3 cols\n"
     ]
    }
   ],
   "source": [
    "# Split gene ids on _ and load into a new data frame and set the columns\n",
    "split_data = pd.DataFrame(df_tpm_2.Gene_id.str.split(\"_\", expand=True))\n",
    "split_data.columns = [\"Gene_id\", \"Gene_name\", \"Gene_name2\"]\n",
    "\n",
    "# Fill in the NA's with blank strings\n",
    "split_data[\"Gene_name\"] = split_data.Gene_name.fillna('')\n",
    "split_data[\"Gene_name2\"] = split_data.Gene_name2.fillna('')\n",
    "\n",
    "# Concatinate the strings that have split more than once back to their standard for e.g GENEID_GENENAME_SOMEMORENAME\n",
    "split_data[\"Gene_name\"] = split_data.apply(lambda x: x.Gene_name if x.Gene_name2 == '' else x.Gene_name + '_' + x.Gene_name2, axis=1)\n",
    "print_rowcol('Filter check', split_data)"
   ]
  },
  {
   "cell_type": "code",
   "execution_count": 22,
   "metadata": {},
   "outputs": [],
   "source": [
    "# Insert the columns back into the main data array\n",
    "df_tpm_2[\"Gene_id\"] = split_data.Gene_id\n",
    "df_tpm_2.insert(1,\"Gene_name\", split_data.Gene_name)\n",
    "#df_tpm_2"
   ]
  },
  {
   "cell_type": "markdown",
   "metadata": {},
   "source": [
    "Set gene name to index after checking it is unique"
   ]
  },
  {
   "cell_type": "code",
   "execution_count": 23,
   "metadata": {},
   "outputs": [
    {
     "data": {
      "text/plain": [
       "True"
      ]
     },
     "execution_count": 23,
     "metadata": {},
     "output_type": "execute_result"
    }
   ],
   "source": [
    "df_tpm_2.Gene_id.is_unique"
   ]
  },
  {
   "cell_type": "code",
   "execution_count": 24,
   "metadata": {},
   "outputs": [],
   "source": [
    "df_tpm_2.index = df_tpm_2['Gene_id']\n",
    "#df_tpm_2"
   ]
  },
  {
   "cell_type": "markdown",
   "metadata": {},
   "source": [
    "## Joost / Kasper\n",
    "\n",
    "Load in data"
   ]
  },
  {
   "cell_type": "code",
   "execution_count": 25,
   "metadata": {},
   "outputs": [
    {
     "name": "stdout",
     "output_type": "stream",
     "text": [
      "Loaded Kasper: 26024 rows x 1423 cols\n"
     ]
    }
   ],
   "source": [
    "df_rpk = pd.read_csv(tpm_joost_path, sep='\\t')\n",
    "print_rowcol('Loaded Kasper', df_rpk)\n",
    "#df_rpk"
   ]
  },
  {
   "cell_type": "markdown",
   "metadata": {},
   "source": [
    "### Convert from FPKM (Fragments Per Kilobase Million) to TPM (Transcripts Per Kilobase Million)\n",
    "\n",
    "Rename gene/cell column"
   ]
  },
  {
   "cell_type": "code",
   "execution_count": 26,
   "metadata": {},
   "outputs": [
    {
     "data": {
      "text/html": [
       "<div>\n",
       "<style scoped>\n",
       "    .dataframe tbody tr th:only-of-type {\n",
       "        vertical-align: middle;\n",
       "    }\n",
       "\n",
       "    .dataframe tbody tr th {\n",
       "        vertical-align: top;\n",
       "    }\n",
       "\n",
       "    .dataframe thead th {\n",
       "        text-align: right;\n",
       "    }\n",
       "</style>\n",
       "<table border=\"1\" class=\"dataframe\">\n",
       "  <thead>\n",
       "    <tr style=\"text-align: right;\">\n",
       "      <th></th>\n",
       "      <th>gene_name</th>\n",
       "      <th>1772067055_A01</th>\n",
       "      <th>1772067055_A03</th>\n",
       "      <th>1772067055_A04</th>\n",
       "      <th>1772067055_A05</th>\n",
       "      <th>1772067055_A06</th>\n",
       "      <th>1772067055_A07</th>\n",
       "      <th>1772067055_A09</th>\n",
       "      <th>1772067055_B01</th>\n",
       "      <th>1772067055_B02</th>\n",
       "      <th>...</th>\n",
       "      <th>1772072285_C12</th>\n",
       "      <th>1772072285_D01</th>\n",
       "      <th>1772072285_D03</th>\n",
       "      <th>1772072285_D05</th>\n",
       "      <th>1772072285_D06</th>\n",
       "      <th>1772072285_D09</th>\n",
       "      <th>1772072285_D12</th>\n",
       "      <th>1772072285_E02</th>\n",
       "      <th>1772072285_E06</th>\n",
       "      <th>1772072285_G06</th>\n",
       "    </tr>\n",
       "  </thead>\n",
       "  <tbody>\n",
       "    <tr>\n",
       "      <th>0</th>\n",
       "      <td>ERCC-00002</td>\n",
       "      <td>363</td>\n",
       "      <td>330</td>\n",
       "      <td>267</td>\n",
       "      <td>262</td>\n",
       "      <td>334</td>\n",
       "      <td>328</td>\n",
       "      <td>280</td>\n",
       "      <td>318</td>\n",
       "      <td>297</td>\n",
       "      <td>...</td>\n",
       "      <td>945</td>\n",
       "      <td>850</td>\n",
       "      <td>696</td>\n",
       "      <td>544</td>\n",
       "      <td>701</td>\n",
       "      <td>817</td>\n",
       "      <td>601</td>\n",
       "      <td>687</td>\n",
       "      <td>589</td>\n",
       "      <td>229</td>\n",
       "    </tr>\n",
       "    <tr>\n",
       "      <th>1</th>\n",
       "      <td>ERCC-00003</td>\n",
       "      <td>20</td>\n",
       "      <td>17</td>\n",
       "      <td>14</td>\n",
       "      <td>16</td>\n",
       "      <td>20</td>\n",
       "      <td>26</td>\n",
       "      <td>14</td>\n",
       "      <td>8</td>\n",
       "      <td>25</td>\n",
       "      <td>...</td>\n",
       "      <td>82</td>\n",
       "      <td>79</td>\n",
       "      <td>56</td>\n",
       "      <td>36</td>\n",
       "      <td>54</td>\n",
       "      <td>92</td>\n",
       "      <td>30</td>\n",
       "      <td>64</td>\n",
       "      <td>47</td>\n",
       "      <td>32</td>\n",
       "    </tr>\n",
       "    <tr>\n",
       "      <th>2</th>\n",
       "      <td>ERCC-00004</td>\n",
       "      <td>276</td>\n",
       "      <td>258</td>\n",
       "      <td>215</td>\n",
       "      <td>190</td>\n",
       "      <td>244</td>\n",
       "      <td>259</td>\n",
       "      <td>209</td>\n",
       "      <td>235</td>\n",
       "      <td>237</td>\n",
       "      <td>...</td>\n",
       "      <td>1000</td>\n",
       "      <td>925</td>\n",
       "      <td>755</td>\n",
       "      <td>667</td>\n",
       "      <td>745</td>\n",
       "      <td>1051</td>\n",
       "      <td>609</td>\n",
       "      <td>749</td>\n",
       "      <td>534</td>\n",
       "      <td>287</td>\n",
       "    </tr>\n",
       "    <tr>\n",
       "      <th>3</th>\n",
       "      <td>ERCC-00009</td>\n",
       "      <td>25</td>\n",
       "      <td>14</td>\n",
       "      <td>14</td>\n",
       "      <td>7</td>\n",
       "      <td>20</td>\n",
       "      <td>31</td>\n",
       "      <td>20</td>\n",
       "      <td>26</td>\n",
       "      <td>24</td>\n",
       "      <td>...</td>\n",
       "      <td>56</td>\n",
       "      <td>49</td>\n",
       "      <td>42</td>\n",
       "      <td>27</td>\n",
       "      <td>33</td>\n",
       "      <td>49</td>\n",
       "      <td>30</td>\n",
       "      <td>44</td>\n",
       "      <td>27</td>\n",
       "      <td>13</td>\n",
       "    </tr>\n",
       "    <tr>\n",
       "      <th>4</th>\n",
       "      <td>ERCC-00012</td>\n",
       "      <td>0</td>\n",
       "      <td>0</td>\n",
       "      <td>0</td>\n",
       "      <td>0</td>\n",
       "      <td>0</td>\n",
       "      <td>0</td>\n",
       "      <td>0</td>\n",
       "      <td>0</td>\n",
       "      <td>0</td>\n",
       "      <td>...</td>\n",
       "      <td>0</td>\n",
       "      <td>0</td>\n",
       "      <td>0</td>\n",
       "      <td>0</td>\n",
       "      <td>0</td>\n",
       "      <td>0</td>\n",
       "      <td>0</td>\n",
       "      <td>0</td>\n",
       "      <td>0</td>\n",
       "      <td>0</td>\n",
       "    </tr>\n",
       "  </tbody>\n",
       "</table>\n",
       "<p>5 rows × 1423 columns</p>\n",
       "</div>"
      ],
      "text/plain": [
       "    gene_name  1772067055_A01  1772067055_A03  1772067055_A04  1772067055_A05  \\\n",
       "0  ERCC-00002             363             330             267             262   \n",
       "1  ERCC-00003              20              17              14              16   \n",
       "2  ERCC-00004             276             258             215             190   \n",
       "3  ERCC-00009              25              14              14               7   \n",
       "4  ERCC-00012               0               0               0               0   \n",
       "\n",
       "   1772067055_A06  1772067055_A07  1772067055_A09  1772067055_B01  \\\n",
       "0             334             328             280             318   \n",
       "1              20              26              14               8   \n",
       "2             244             259             209             235   \n",
       "3              20              31              20              26   \n",
       "4               0               0               0               0   \n",
       "\n",
       "   1772067055_B02  ...  1772072285_C12  1772072285_D01  1772072285_D03  \\\n",
       "0             297  ...             945             850             696   \n",
       "1              25  ...              82              79              56   \n",
       "2             237  ...            1000             925             755   \n",
       "3              24  ...              56              49              42   \n",
       "4               0  ...               0               0               0   \n",
       "\n",
       "   1772072285_D05  1772072285_D06  1772072285_D09  1772072285_D12  \\\n",
       "0             544             701             817             601   \n",
       "1              36              54              92              30   \n",
       "2             667             745            1051             609   \n",
       "3              27              33              49              30   \n",
       "4               0               0               0               0   \n",
       "\n",
       "   1772072285_E02  1772072285_E06  1772072285_G06  \n",
       "0             687             589             229  \n",
       "1              64              47              32  \n",
       "2             749             534             287  \n",
       "3              44              27              13  \n",
       "4               0               0               0  \n",
       "\n",
       "[5 rows x 1423 columns]"
      ]
     },
     "execution_count": 26,
     "metadata": {},
     "output_type": "execute_result"
    }
   ],
   "source": [
    "df_rpk.rename( columns={'Gene\\Cell':'gene_name'}, inplace=True)\n",
    "df_rpk.head()"
   ]
  },
  {
   "cell_type": "markdown",
   "metadata": {},
   "source": [
    "Set gene to index after checking unique"
   ]
  },
  {
   "cell_type": "code",
   "execution_count": 27,
   "metadata": {},
   "outputs": [
    {
     "data": {
      "text/plain": [
       "True"
      ]
     },
     "execution_count": 27,
     "metadata": {},
     "output_type": "execute_result"
    }
   ],
   "source": [
    "df_rpk.index.is_unique"
   ]
  },
  {
   "cell_type": "code",
   "execution_count": 28,
   "metadata": {},
   "outputs": [],
   "source": [
    "df_rpk.index = df_rpk['gene_name']\n",
    "#df_rpk"
   ]
  },
  {
   "cell_type": "markdown",
   "metadata": {},
   "source": [
    "Insert gene_id into data"
   ]
  },
  {
   "cell_type": "code",
   "execution_count": 29,
   "metadata": {},
   "outputs": [
    {
     "name": "stdout",
     "output_type": "stream",
     "text": [
      "Shape after merging gene ids: 21827 rows x 1422 cols\n"
     ]
    }
   ],
   "source": [
    "df_rpk_merged = df_rpk\n",
    "df_rpk_merged = df_rpk_merged.drop('gene_name', axis=1)\n",
    "df_rpk_merged = df_gene_name2id.join(df_rpk_merged, lsuffix='', rsuffix='', how='inner')\n",
    "df_rpk_merged.index = df_rpk_merged.gene_id\n",
    "df_rpk_merged = df_rpk_merged.drop('gene_id', axis=1)\n",
    "print_rowcol('Shape after merging gene ids', df_rpk_merged)\n",
    "#df_rpk_merged"
   ]
  },
  {
   "cell_type": "markdown",
   "metadata": {},
   "source": []
  },
  {
   "cell_type": "markdown",
   "metadata": {},
   "source": [
    "Get length of each gene into data frame"
   ]
  },
  {
   "cell_type": "code",
   "execution_count": 30,
   "metadata": {},
   "outputs": [
    {
     "name": "stdout",
     "output_type": "stream",
     "text": [
      "Shape after merging gene feature_len: 21522 rows x 1423 cols\n"
     ]
    }
   ],
   "source": [
    "df_rpk_merged_len = df_gtf_transcript_len.join(df_rpk_merged, lsuffix='', rsuffix='', how='inner')\n",
    "print_rowcol('Shape after merging gene feature_len', df_rpk_merged_len)\n",
    "#df_rpk_merged_len"
   ]
  },
  {
   "cell_type": "markdown",
   "metadata": {},
   "source": [
    "Sum the read counts per sample"
   ]
  },
  {
   "cell_type": "code",
   "execution_count": 31,
   "metadata": {},
   "outputs": [],
   "source": [
    "df_scaling_factor = pd.DataFrame(df_rpk_merged_len.sum(axis=0) / 1000000)\n",
    "df_scaling_factor.columns = ['scaling_factor']\n",
    "df_scaling_factor = df_scaling_factor.drop('feature_len')"
   ]
  },
  {
   "cell_type": "markdown",
   "metadata": {},
   "source": [
    "Divide the read counts by the length of each gene in kilobases. This gives you reads per kilobase (RPK)"
   ]
  },
  {
   "cell_type": "code",
   "execution_count": 32,
   "metadata": {},
   "outputs": [],
   "source": [
    "df_rpk_merged_len = df_rpk_merged_len.iloc[:,1:].div(df_rpk_merged_len.feature_len, axis=0)"
   ]
  },
  {
   "cell_type": "markdown",
   "metadata": {},
   "source": [
    "Divide the RPK values by the “per million” scaling factor. This gives you TPM."
   ]
  },
  {
   "cell_type": "code",
   "execution_count": null,
   "metadata": {},
   "outputs": [],
   "source": [
    "df_rpk_merged_len = df_rpk_merged_len.iloc[:,:].div(df_scaling_factor.T, axis=0)\n",
    "df_rpk_merged_len"
   ]
  },
  {
   "cell_type": "code",
   "execution_count": null,
   "metadata": {},
   "outputs": [],
   "source": [
    "\n",
    "\n",
    "\n",
    "#df_rpk_merged_len = df_rpk_merged_len / df_rpk_merged_len.feature_len\n",
    "#df_rpk_merged_len"
   ]
  },
  {
   "cell_type": "code",
   "execution_count": null,
   "metadata": {},
   "outputs": [],
   "source": [
    "fkjfkjfkjfkjf q=49=2orq\\fk]3gi1-t"
   ]
  },
  {
   "cell_type": "code",
   "execution_count": null,
   "metadata": {},
   "outputs": [],
   "source": [
    "df_rpk_merged_len"
   ]
  },
  {
   "cell_type": "code",
   "execution_count": null,
   "metadata": {},
   "outputs": [],
   "source": []
  },
  {
   "cell_type": "code",
   "execution_count": null,
   "metadata": {},
   "outputs": [],
   "source": []
  },
  {
   "cell_type": "code",
   "execution_count": null,
   "metadata": {},
   "outputs": [],
   "source": []
  },
  {
   "cell_type": "code",
   "execution_count": null,
   "metadata": {},
   "outputs": [],
   "source": []
  },
  {
   "cell_type": "code",
   "execution_count": null,
   "metadata": {},
   "outputs": [],
   "source": []
  },
  {
   "cell_type": "code",
   "execution_count": null,
   "metadata": {},
   "outputs": [],
   "source": []
  },
  {
   "cell_type": "code",
   "execution_count": null,
   "metadata": {},
   "outputs": [],
   "source": []
  },
  {
   "cell_type": "markdown",
   "metadata": {},
   "source": [
    "Calculate the 'per million' scaling factor"
   ]
  },
  {
   "cell_type": "code",
   "execution_count": null,
   "metadata": {},
   "outputs": [],
   "source": []
  },
  {
   "cell_type": "code",
   "execution_count": null,
   "metadata": {},
   "outputs": [],
   "source": []
  },
  {
   "cell_type": "code",
   "execution_count": null,
   "metadata": {},
   "outputs": [],
   "source": []
  },
  {
   "cell_type": "markdown",
   "metadata": {},
   "source": [
    "## Ghahramani"
   ]
  },
  {
   "cell_type": "code",
   "execution_count": null,
   "metadata": {},
   "outputs": [],
   "source": [
    "Rename gene_name column"
   ]
  },
  {
   "cell_type": "code",
   "execution_count": null,
   "metadata": {},
   "outputs": [],
   "source": [
    "df_rpk.rename( columns={'Unnamed: 0':'gene_name'}, inplace=True )\n",
    "df_rpk.head()"
   ]
  },
  {
   "cell_type": "markdown",
   "metadata": {},
   "source": [
    "## Create merged dataset\n",
    "\n",
    "Create merged dataset from all subsets"
   ]
  },
  {
   "cell_type": "code",
   "execution_count": null,
   "metadata": {},
   "outputs": [],
   "source": [
    "df_tpm_combined = df_tpm_1.join(df_tpm_2, lsuffix='', rsuffix='_other', how='inner')\n",
    "df_tpm_combined.drop(['Gene_id_other', 'Gene_name_other'], axis=1)\n",
    "df_tpm_combined.shape"
   ]
  },
  {
   "cell_type": "markdown",
   "metadata": {},
   "source": [
    "Create data only set (this is easier for tensorflow to deal with)"
   ]
  },
  {
   "cell_type": "code",
   "execution_count": null,
   "metadata": {},
   "outputs": [],
   "source": [
    "df_tpm_combined_dataonly = df_tpm_combined.drop(['Gene_id', 'Gene_name'], axis=1)\n",
    "df_tpm_combined_dataonly = df_tpm_combined_dataonly.select_dtypes(exclude=['object'])\n",
    "df_tpm_combined_dataonly.shape"
   ]
  },
  {
   "cell_type": "markdown",
   "metadata": {},
   "source": [
    "Create `log2(TPM+1)` dataset"
   ]
  },
  {
   "cell_type": "code",
   "execution_count": null,
   "metadata": {},
   "outputs": [],
   "source": [
    "df_ltpm_combined_dataonly = np.log2(df_tpm_combined_dataonly + 1)\n",
    "df_ltpm_combined_dataonly"
   ]
  },
  {
   "cell_type": "markdown",
   "metadata": {},
   "source": [
    "Filter for genes and cells which match filtering criteria. Call `.shape` to check what was filtered"
   ]
  },
  {
   "cell_type": "code",
   "execution_count": null,
   "metadata": {},
   "outputs": [],
   "source": [
    "df_expression_filt_mask = df_ltpm_combined_dataonly > min_ltpm_exp\n",
    "df_ltpm_combined_dataonly_genefilt = df_ltpm_combined_dataonly[df_expression_filt_mask.sum(axis=1) > min_num_cells_for_gene_exp]\n",
    "df_ltpm_combined_dataonly_genefilt.shape"
   ]
  },
  {
   "cell_type": "code",
   "execution_count": null,
   "metadata": {},
   "outputs": [],
   "source": [
    "df_ltpm_combined_dataonly_genecellfilt = df_ltpm_combined_dataonly_genefilt \\\n",
    "    .T[(df_ltpm_combined_dataonly_genefilt > min_ltpm_exp).sum(axis=0) > min_num_genes_in_cell_exp]\n",
    "df_ltpm_combined_dataonly_genecellfilt = df_ltpm_combined_dataonly_genecellfilt.T\n",
    "df_ltpm_combined_dataonly_genecellfilt.shape"
   ]
  },
  {
   "cell_type": "markdown",
   "metadata": {},
   "source": [
    "## Write data to file"
   ]
  },
  {
   "cell_type": "markdown",
   "metadata": {},
   "source": [
    "Get the column and row names as a list"
   ]
  },
  {
   "cell_type": "code",
   "execution_count": null,
   "metadata": {},
   "outputs": [],
   "source": [
    "df_column_names = pd.DataFrame(list(df_ltpm_combined_dataonly_genecellfilt.columns.values))\n",
    "df_row_names = pd.DataFrame(list(df_ltpm_combined_dataonly_genecellfilt.index.values))\n",
    "\n",
    "print(df_column_names.shape)\n",
    "print(df_row_names.shape)"
   ]
  },
  {
   "cell_type": "markdown",
   "metadata": {},
   "source": [
    "Write the data to file"
   ]
  },
  {
   "cell_type": "code",
   "execution_count": null,
   "metadata": {},
   "outputs": [],
   "source": [
    "df_ltpm_combined_dataonly_genecellfilt.to_csv(data_path + '/tpm_combined.csv', index=False, header=False)\n",
    "df_column_names.to_csv(data_path + '/tpm_combined_cols.csv', index=False, header=False)\n",
    "df_row_names.to_csv(data_path + '/tpm_combined_rows.csv', index=False, header=False)"
   ]
  }
 ],
 "metadata": {
  "kernelspec": {
   "display_name": "Python 3",
   "language": "python",
   "name": "python3"
  },
  "language_info": {
   "codemirror_mode": {
    "name": "ipython",
    "version": 3
   },
   "file_extension": ".py",
   "mimetype": "text/x-python",
   "name": "python",
   "nbconvert_exporter": "python",
   "pygments_lexer": "ipython3",
   "version": "3.7.6"
  }
 },
 "nbformat": 4,
 "nbformat_minor": 4
}
