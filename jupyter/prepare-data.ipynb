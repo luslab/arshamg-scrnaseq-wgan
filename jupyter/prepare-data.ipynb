{
 "cells": [
  {
   "cell_type": "code",
   "execution_count": 1,
   "metadata": {},
   "outputs": [
    {
     "name": "stdout",
     "output_type": "stream",
     "text": [
      "Collecting gtfparse\n",
      "  Downloading gtfparse-1.2.0.tar.gz (12 kB)\n",
      "Requirement already satisfied: numpy<2.0,>=1.7 in /opt/conda/lib/python3.7/site-packages (from gtfparse) (1.18.1)\n",
      "Requirement already satisfied: pandas>=0.15 in /opt/conda/lib/python3.7/site-packages (from gtfparse) (0.25.3)\n",
      "Requirement already satisfied: python-dateutil>=2.6.1 in /opt/conda/lib/python3.7/site-packages (from pandas>=0.15->gtfparse) (2.8.1)\n",
      "Requirement already satisfied: pytz>=2017.2 in /opt/conda/lib/python3.7/site-packages (from pandas>=0.15->gtfparse) (2019.3)\n",
      "Requirement already satisfied: six>=1.5 in /opt/conda/lib/python3.7/site-packages (from python-dateutil>=2.6.1->pandas>=0.15->gtfparse) (1.14.0)\n",
      "Building wheels for collected packages: gtfparse\n",
      "  Building wheel for gtfparse (setup.py) ... \u001b[?25ldone\n",
      "\u001b[?25h  Created wheel for gtfparse: filename=gtfparse-1.2.0-py3-none-any.whl size=11881 sha256=b5c9914eb867c3dee28f96fa30d73dafb706f1029dedcd8a40c8908e852673d8\n",
      "  Stored in directory: /home/jovyan/.cache/pip/wheels/2d/81/83/85c4108d53b4b2ad3cee5d6f9b7ec612554e132202b8020359\n",
      "Successfully built gtfparse\n",
      "Installing collected packages: gtfparse\n",
      "Successfully installed gtfparse-1.2.0\n"
     ]
    }
   ],
   "source": [
    "# Install a pip package in the current Jupyter kernel - REMOVE IN PROD\n",
    "import sys\n",
    "!{sys.executable} -m pip install gtfparse"
   ]
  },
  {
   "cell_type": "code",
   "execution_count": 2,
   "metadata": {},
   "outputs": [],
   "source": [
    "# Import libs\n",
    "import os.path\n",
    "from os import path\n",
    "import gzip\n",
    "import pandas as pd\n",
    "import urllib.request\n",
    "from gtfparse import read_gtf"
   ]
  },
  {
   "cell_type": "code",
   "execution_count": 3,
   "metadata": {},
   "outputs": [],
   "source": [
    "# Setup\n",
    "data_path = '../data'\n",
    "gtf_path_gz = data_path + '/Mus_musculus.GRCm38.99.gtf.gz'\n",
    "gtf_path = data_path + '/Mus_musculus.GRCm38.99.gtf'"
   ]
  },
  {
   "cell_type": "code",
   "execution_count": 4,
   "metadata": {},
   "outputs": [],
   "source": [
    "# Download initial datasets and decompress\n",
    "if path.exists(gtf_path_gz) is False: \n",
    "    urllib.request.urlretrieve('ftp://ftp.ensembl.org/pub/release-99/gtf/mus_musculus/Mus_musculus.GRCm38.99.gtf.gz', gtf_path_gz)\n",
    "    input = gzip.GzipFile(gtf_path_gz, 'rb')\n",
    "    s = input.read()\n",
    "    input.close()\n",
    "    output = open(gtf_path, 'wb')\n",
    "    output.write(s)\n",
    "    output.close()"
   ]
  },
  {
   "cell_type": "code",
   "execution_count": null,
   "metadata": {},
   "outputs": [],
   "source": [
    "df = read_gtf(gtf_path)"
   ]
  },
  {
   "cell_type": "code",
   "execution_count": null,
   "metadata": {},
   "outputs": [],
   "source": [
    "df"
   ]
  }
 ],
 "metadata": {
  "kernelspec": {
   "display_name": "Python 3",
   "language": "python",
   "name": "python3"
  },
  "language_info": {
   "codemirror_mode": {
    "name": "ipython",
    "version": 3
   },
   "file_extension": ".py",
   "mimetype": "text/x-python",
   "name": "python",
   "nbconvert_exporter": "python",
   "pygments_lexer": "ipython3",
   "version": "3.7.6"
  }
 },
 "nbformat": 4,
 "nbformat_minor": 4
}
